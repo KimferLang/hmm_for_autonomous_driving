{
 "cells": [
  {
   "cell_type": "markdown",
   "metadata": {},
   "source": [
    "# Dynamic Programming is nothing but cached recursion\n",
    "\n",
    "Objective of this notebook: compare the performance of\n",
    "- a **basic (vanilla) recursion**\n",
    "- a and **cached recursion**\n",
    "\n",
    "Using Fibonacci example\n",
    "- `fibo(0)` `=` `fibo(1)` `=` `0`\n",
    "- `fibo(n)` `=` `fibo(n-1)` `+` `fibo(n-2)`\n",
    "- hence `fibo_series` `=` `[` `0` `,` `1` `,` `1` `,` `2` `,` `3` `,` `5` `,` `8` `,` `13` `,` `...` `]`\n",
    "\n",
    "Criteria for comparison:\n",
    "- **Count of recursion calls**\n",
    "- **Execution timing**"
   ]
  },
  {
   "cell_type": "code",
   "execution_count": 1,
   "metadata": {},
   "outputs": [
    {
     "name": "stdout",
     "output_type": "stream",
     "text": [
      "219 µs ± 15.8 µs per loop (mean ± std. dev. of 7 runs, 1000 loops each)\n"
     ]
    }
   ],
   "source": [
    "def fibo_vanilla_recursive(i):\n",
    "    if i <= 0:\n",
    "        return 0\n",
    "    elif i == 1:\n",
    "        return 1\n",
    "    else:\n",
    "        return fibo_vanilla_recursive(i-1) + fibo_vanilla_recursive(i-2)\n",
    "\n",
    "%timeit for _ in range(10): fibo_vanilla_recursive(10)"
   ]
  },
  {
   "cell_type": "code",
   "execution_count": 2,
   "metadata": {},
   "outputs": [
    {
     "name": "stdout",
     "output_type": "stream",
     "text": [
      "2.03 µs ± 80 ns per loop (mean ± std. dev. of 7 runs, 100000 loops each)\n"
     ]
    }
   ],
   "source": [
    "cache = {0:0, 1:1}\n",
    "def fibo_cached_recursive(i):\n",
    "    if cache.get(i) is not None:\n",
    "        return cache[i]\n",
    "    else:\n",
    "        res = fibo_cached_recursive(i-1) + fibo_cached_recursive(i-2)\n",
    "        cache[i] = res\n",
    "        return res\n",
    "\n",
    "%timeit for _ in range(10): fibo_cached_recursive(10)"
   ]
  },
  {
   "cell_type": "markdown",
   "metadata": {},
   "source": [
    "Let's counter **how many times** `fibo_vanilla_recursive()` is called when computing a series of `fibo_vanilla_recursive(i)` (`i in range(10)`)"
   ]
  },
  {
   "cell_type": "code",
   "execution_count": 3,
   "metadata": {},
   "outputs": [],
   "source": [
    "seen = []\n",
    "counter = 0\n",
    "\n",
    "def fibo_vanilla_recursive(i):\n",
    "    seen.append(i)\n",
    "    # print(\"  computing fibo({})\".format(i))\n",
    "    global counter\n",
    "    counter += 1\n",
    "    if i <= 0:\n",
    "        return 0\n",
    "    elif i == 1:\n",
    "        return 1\n",
    "    else:\n",
    "        return fibo_vanilla_recursive(i-1) + fibo_vanilla_recursive(i-2)"
   ]
  },
  {
   "cell_type": "code",
   "execution_count": 4,
   "metadata": {
    "scrolled": false
   },
   "outputs": [
    {
     "name": "stdout",
     "output_type": "stream",
     "text": [
      "for i = 0, counter = 1\n",
      "for i = 1, counter = 1\n",
      "for i = 2, counter = 3\n",
      "for i = 3, counter = 5\n",
      "for i = 4, counter = 9\n",
      "for i = 5, counter = 15\n",
      "for i = 6, counter = 25\n",
      "for i = 7, counter = 41\n",
      "for i = 8, counter = 67\n",
      "for i = 9, counter = 109\n",
      "total_counter = [276]\n"
     ]
    }
   ],
   "source": [
    "mega_counter = 0\n",
    "res_recursive = []\n",
    "for i in range(10):\n",
    "    global counter\n",
    "    counter = 0\n",
    "    res_recursive.append(fibo_vanilla_recursive(i))\n",
    "    mega_counter += counter\n",
    "    print(\"for i = {}, counter = {}\".format(i, counter))  # to comment when timing\n",
    "\n",
    "print(\"total_counter = [{}]\".format(mega_counter))"
   ]
  },
  {
   "cell_type": "code",
   "execution_count": 5,
   "metadata": {},
   "outputs": [
    {
     "data": {
      "image/png": "[encoded data removed]",
      "text/plain": [
       "<Figure size 864x504 with 1 Axes>"
      ]
     },
     "metadata": {
      "needs_background": "light"
     },
     "output_type": "display_data"
    }
   ],
   "source": [
    "%matplotlib inline\n",
    "import matplotlib.pyplot as plt\n",
    "from collections import Counter\n",
    "import numpy as np\n",
    "\n",
    "fig = plt.figure(figsize=(12, 7))\n",
    "ax = fig.add_subplot(111)\n",
    "\n",
    "labels, values = zip(*Counter(seen).items())\n",
    "# print(labels, values)\n",
    "indexes = np.arange(len(labels))\n",
    "width = 0.8\n",
    "plt.bar(indexes, values, width)\n",
    "\n",
    "plt.grid()\n",
    "plt.xticks(fontsize=18)\n",
    "plt.xticks(np.arange(min(seen), max(seen)+1, 1.0))\n",
    "plt.yticks(fontsize=18)\n",
    "plt.xlabel(r'$\\ i$', fontsize=18, fontweight='bold')\n",
    "plt.ylabel(\"Number of calls\", fontsize=18, fontweight='bold')\n",
    "fig.text(0.14,0.95, \"Number of calls to{} \\nwhen computing all{}\\nfor{} in {}\".format(r'$\\ fibo\\_vanilla\\_recursive(i)$', r'$\\ fibo\\_vanilla\\_recursive(k)$', r'$\\ k$', r'$range(10)$'), fontsize=23,  fontweight='bold')\n",
    "fig.savefig('docs/number_calls_fibo_recursive.svg', format='svg', dpi=1500)"
   ]
  },
  {
   "cell_type": "markdown",
   "metadata": {},
   "source": [
    "## Bonus digression\n",
    "\n",
    "The plot shows that `fibo_vanilla_recursive(1)` is called `88` times when computing `[` `fibo_vanilla_recursive(0)` `...` `fibo_vanilla_recursive(9)` `]`\n",
    "\n",
    "Could we have analytically computed that result?\n",
    "\n",
    "Let's call `nb_one(k)` the number of calls to `fibo_vanilla_recursive(1)` when involking `fibo_vanilla_recursive(k)`\n",
    "\n",
    "_Initialisation:_\n",
    "- `nb_one(0)` `=` `0`\n",
    "- `nb_one(1)` `=` `1`\n",
    "\n",
    "_Recursion:_\n",
    "- `nb_one(k+2)` `=` `nb_one(k+1)` `+` `nb_one(k)`\n",
    "\n",
    "Hence:\n",
    "`nb_one(k)` `=` `fibonacci(k)`"
   ]
  },
  {
   "cell_type": "code",
   "execution_count": 6,
   "metadata": {},
   "outputs": [
    {
     "name": "stdout",
     "output_type": "stream",
     "text": [
      "88\n"
     ]
    }
   ],
   "source": [
    "res = 0\n",
    "for i in range(10):\n",
    "    res += fibo_cached_recursive(i)\n",
    "print(res)"
   ]
  }
 ],
 "metadata": {
  "kernelspec": {
   "display_name": "Python 3",
   "language": "python",
   "name": "python3"
  },
  "language_info": {
   "codemirror_mode": {
    "name": "ipython",
    "version": 3
   },
   "file_extension": ".py",
   "mimetype": "text/x-python",
   "name": "python",
   "nbconvert_exporter": "python",
   "pygments_lexer": "ipython3",
   "version": "3.7.1"
  }
 },
 "nbformat": 4,
 "nbformat_minor": 2
}
